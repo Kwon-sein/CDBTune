{
 "cells": [
  {
   "cell_type": "code",
   "execution_count": 1,
   "id": "f30f7607",
   "metadata": {},
   "outputs": [],
   "source": [
    "import pandas as pd\n",
    "import numpy as np"
   ]
  },
  {
   "cell_type": "code",
   "execution_count": 15,
   "id": "e4d4a4ec",
   "metadata": {},
   "outputs": [],
   "source": [
    "from environment.rocksdb_knobs import get_init_knobs, KNOB_DETAILS, gen_continuous"
   ]
  },
  {
   "cell_type": "code",
   "execution_count": 5,
   "id": "b96179cd",
   "metadata": {
    "scrolled": true
   },
   "outputs": [
    {
     "data": {
      "text/plain": [
       "22"
      ]
     },
     "execution_count": 5,
     "metadata": {},
     "output_type": "execute_result"
    }
   ],
   "source": [
    "len(KNOB_DETAILS)"
   ]
  },
  {
   "cell_type": "code",
   "execution_count": 29,
   "id": "96a79dcb",
   "metadata": {},
   "outputs": [],
   "source": [
    "f = open('test.log', 'w')\n",
    "f.write('hello')\n",
    "f.close()"
   ]
  },
  {
   "cell_type": "code",
   "execution_count": 30,
   "id": "9d5476e2",
   "metadata": {},
   "outputs": [],
   "source": [
    "a = [1, 2, 3, 4]"
   ]
  },
  {
   "cell_type": "code",
   "execution_count": 37,
   "id": "744036d8",
   "metadata": {},
   "outputs": [
    {
     "data": {
      "text/plain": [
       "[1, 2, 3, 4]"
      ]
     },
     "execution_count": 37,
     "metadata": {},
     "output_type": "execute_result"
    }
   ],
   "source": [
    "a"
   ]
  },
  {
   "cell_type": "code",
   "execution_count": 39,
   "id": "3eafb565",
   "metadata": {},
   "outputs": [],
   "source": [
    "a = map(lambda x: x[0].tolist(), a)"
   ]
  },
  {
   "cell_type": "code",
   "execution_count": 41,
   "id": "65e280b0",
   "metadata": {},
   "outputs": [
    {
     "data": {
      "text/plain": [
       "<map at 0x7f683e068950>"
      ]
     },
     "execution_count": 41,
     "metadata": {},
     "output_type": "execute_result"
    }
   ],
   "source": []
  },
  {
   "cell_type": "code",
   "execution_count": 21,
   "id": "16a21957",
   "metadata": {},
   "outputs": [
    {
     "data": {
      "text/plain": [
       "2.5"
      ]
     },
     "execution_count": 21,
     "metadata": {},
     "output_type": "execute_result"
    }
   ],
   "source": [
    "sum([_*0.25 for _ in a])"
   ]
  },
  {
   "cell_type": "code",
   "execution_count": 16,
   "id": "9e3cf3e7",
   "metadata": {
    "scrolled": true
   },
   "outputs": [
    {
     "data": {
      "text/plain": [
       "'b'"
      ]
     },
     "execution_count": 16,
     "metadata": {},
     "output_type": "execute_result"
    }
   ],
   "source": [
    "knob_value = ['a', 'b']\n",
    "enum_size = len(knob_value)\n",
    "enum_index = int(enum_size * 0.9)\n",
    "enum_index = min(enum_size - 1, enum_index)\n",
    "knob_value[enum_index]"
   ]
  },
  {
   "cell_type": "code",
   "execution_count": 12,
   "id": "a05321bb",
   "metadata": {},
   "outputs": [],
   "source": [
    "action = [0.508023,0.535363,0.5004378,0.42587227,0.5434355,0.55507904,0.5150293,0.50153744,0.5545735,0.4314461,0.48932582,0.4819185,0.50356835,0.5393296,0.5190378,0.48829108,0.46312279,0.4866636,0.47224224,0.48070174,0.5321079,0.4640345]"
   ]
  },
  {
   "cell_type": "code",
   "execution_count": 16,
   "id": "6d215ba6",
   "metadata": {},
   "outputs": [
    {
     "data": {
      "text/plain": [
       "{'max_background_compactions': 8,\n",
       " 'max_background_flushes': 8,\n",
       " 'write_buffer_size': 1049494,\n",
       " 'max_write_buffer_number': 3,\n",
       " 'min_write_buffer_number_to_merge': 1,\n",
       " 'compaction_pri': 1,\n",
       " 'compaction_style': 1,\n",
       " 'level0_file_num_compaction_trigger': 4,\n",
       " 'level0_slowdown_writes_trigger': 17,\n",
       " 'level0_stop_writes_trigger': 32,\n",
       " 'compression_type': 'lz4',\n",
       " 'bloom_locality': 0,\n",
       " 'open_files': 1000000,\n",
       " 'block_size': 8836,\n",
       " 'cache_index_and_filter_blocks': 0,\n",
       " 'max_bytes_for_level_base': 4096082,\n",
       " 'max_bytes_for_level_multiplier': 8,\n",
       " 'target_file_size_base': 1020607,\n",
       " 'target_file_size_multiplier': 1,\n",
       " 'num_levels': 5,\n",
       " 'memtable_bloom_size_ratio': 0.1,\n",
       " 'compression_ratio': 0.45}"
      ]
     },
     "execution_count": 16,
     "metadata": {},
     "output_type": "execute_result"
    }
   ],
   "source": [
    "gen_continuous(action)"
   ]
  },
  {
   "cell_type": "code",
   "execution_count": null,
   "id": "5015c35a",
   "metadata": {},
   "outputs": [],
   "source": []
  },
  {
   "cell_type": "code",
   "execution_count": 4,
   "id": "f7e647ad",
   "metadata": {
    "scrolled": false
   },
   "outputs": [
    {
     "data": {
      "text/plain": [
       "{'max_background_compactions': 1,\n",
       " 'max_background_flushes': 1,\n",
       " 'write_buffer_size': 1048576,\n",
       " 'max_write_buffer_number': 2,\n",
       " 'min_write_buffer_number_to_merge': 1,\n",
       " 'compaction_pri': 0,\n",
       " 'compaction_style': 0,\n",
       " 'level0_file_num_compaction_trigger': 4,\n",
       " 'level0_slowdown_writes_trigger': 20,\n",
       " 'level0_stop_writes_trigger': 36,\n",
       " 'compression_type': 'snappy',\n",
       " 'bloom_locality': 0,\n",
       " 'open_files': -1,\n",
       " 'block_size': 4096,\n",
       " 'cache_index_and_filter_blocks': 0,\n",
       " 'max_bytes_for_level_base': 4194304,\n",
       " 'max_bytes_for_level_multiplier': 10,\n",
       " 'target_file_size_base': 1048576,\n",
       " 'target_file_size_multiplier': 1,\n",
       " 'num_levels': 7,\n",
       " 'memtable_bloom_size_ratio': 0,\n",
       " 'compression_ratio': 0.5}"
      ]
     },
     "execution_count": 4,
     "metadata": {},
     "output_type": "execute_result"
    }
   ],
   "source": [
    "get_init_knobs()"
   ]
  },
  {
   "cell_type": "code",
   "execution_count": 2,
   "id": "8b46ca71",
   "metadata": {},
   "outputs": [],
   "source": [
    "KNOB_DETAILS = {\n",
    "    ###'skip_name_resolve': ['enum', ['OFF', 'ON']],\n",
    "    'table_open_cache': ['integer', [1, 10240, 512]],\n",
    "    #'max_connections': ['integer', [1100, 100000, 80000]],\n",
    "#     'innodb_buffer_pool_size': ['integer', [1048576, memory_size, memory_size]],\n",
    "    'innodb_buffer_pool_instances': ['integer', [1, 64, 8]],\n",
    "    #1\n",
    "    #'innodb_log_files_in_group': ['integer', [2, 100, 2]],\n",
    "    #1\n",
    "    #'innodb_log_file_size': ['integer', [134217728, 5497558138, 15569256448]],\n",
    "    'innodb_purge_threads': ['integer', [1, 32, 1]],\n",
    "    'innodb_read_io_threads': ['integer', [1, 64, 12]],\n",
    "    'innodb_write_io_threads': ['integer', [1, 64, 12]],\n",
    "    #3\n",
    "    #'max_binlog_cache_size': ['integer', [4096, 4294967296, 18446744073709547520]],\n",
    "    #'binlog_cache_size': ['integer', [4096, 4294967296, 18446744073709547520]],\n",
    "    #'max_binlog_size': ['integer', [4096, 1073741824, 1073741824]],\n",
    "}"
   ]
  },
  {
   "cell_type": "code",
   "execution_count": 3,
   "id": "ee06da88",
   "metadata": {},
   "outputs": [],
   "source": [
    "knobs = {}\n",
    "\n",
    "for name, value in KNOB_DETAILS.items():\n",
    "    knob_value = value[1]\n",
    "    knobs[name] = knob_value[-1]"
   ]
  },
  {
   "cell_type": "code",
   "execution_count": 4,
   "id": "23ba63fe",
   "metadata": {},
   "outputs": [
    {
     "data": {
      "text/plain": [
       "{'table_open_cache': 512,\n",
       " 'innodb_buffer_pool_instances': 8,\n",
       " 'innodb_purge_threads': 1,\n",
       " 'innodb_read_io_threads': 12,\n",
       " 'innodb_write_io_threads': 12}"
      ]
     },
     "execution_count": 4,
     "metadata": {},
     "output_type": "execute_result"
    }
   ],
   "source": [
    "knobs"
   ]
  },
  {
   "cell_type": "code",
   "execution_count": 8,
   "id": "ab7fab73",
   "metadata": {},
   "outputs": [
    {
     "data": {
      "text/plain": [
       "['-max_background_compactions=1',\n",
       " '-max_background_flushes=1',\n",
       " '-write_buffer_size=1048576',\n",
       " '-max_write_buffer_number=2',\n",
       " '-min_write_buffer_number_to_merge=1',\n",
       " '-compaction_pri=0',\n",
       " '-compaction_style=0',\n",
       " '-level0_file_num_compaction_trigger=4',\n",
       " '-level0_slowdown_writes_trigger=20',\n",
       " '-level0_stop_writes_trigger=36',\n",
       " '-compression_type=snappy',\n",
       " '-bloom_locality=0',\n",
       " '-open_files=-1',\n",
       " '-block_size=4096',\n",
       " '-cache_index_and_filter_blocks=0',\n",
       " '-max_bytes_for_level_base=4194304',\n",
       " '-max_bytes_for_level_multiplier=10',\n",
       " '-target_file_size_base=1048576',\n",
       " '-target_file_size_multiplier=1',\n",
       " '-num_levels=7',\n",
       " '-memtable_bloom_size_ratio=0',\n",
       " '-compression_ratio=0.5']"
      ]
     },
     "execution_count": 8,
     "metadata": {},
     "output_type": "execute_result"
    }
   ],
   "source": [
    "def_knobs = '-max_background_compactions=1 -max_background_flushes=1 -write_buffer_size=1048576 -max_write_buffer_number=2 -min_write_buffer_number_to_merge=1 -compaction_pri=0 -compaction_style=0 -level0_file_num_compaction_trigger=4 -level0_slowdown_writes_trigger=20 -level0_stop_writes_trigger=36 -compression_type=snappy -bloom_locality=0 -open_files=-1 -block_size=4096 -cache_index_and_filter_blocks=0 -max_bytes_for_level_base=4194304 -max_bytes_for_level_multiplier=10 -target_file_size_base=1048576 -target_file_size_multiplier=1 -num_levels=7 -memtable_bloom_size_ratio=0 -compression_ratio=0.5'\n",
    "def_knobs = def_knobs.split(' ')\n",
    "def_knobs"
   ]
  },
  {
   "cell_type": "code",
   "execution_count": 117,
   "id": "c62398e1",
   "metadata": {},
   "outputs": [
    {
     "data": {
      "text/plain": [
       "[1, 0.1]"
      ]
     },
     "execution_count": 117,
     "metadata": {},
     "output_type": "execute_result"
    }
   ],
   "source": [
    "a = [1, 0.1]\n",
    "a"
   ]
  },
  {
   "cell_type": "code",
   "execution_count": 119,
   "id": "b4d3f3ff",
   "metadata": {},
   "outputs": [
    {
     "ename": "AttributeError",
     "evalue": "module 'numpy' has no attribute 'numpy'",
     "output_type": "error",
     "traceback": [
      "\u001b[0;31m---------------------------------------------------------------------------\u001b[0m",
      "\u001b[0;31mAttributeError\u001b[0m                            Traceback (most recent call last)",
      "\u001b[0;32m/tmp/ipykernel_26691/1126334871.py\u001b[0m in \u001b[0;36m<module>\u001b[0;34m\u001b[0m\n\u001b[0;32m----> 1\u001b[0;31m \u001b[0mnp\u001b[0m\u001b[0;34m.\u001b[0m\u001b[0mnumpy\u001b[0m\u001b[0;34m(\u001b[0m\u001b[0ma\u001b[0m\u001b[0;34m)\u001b[0m\u001b[0;34m\u001b[0m\u001b[0;34m\u001b[0m\u001b[0m\n\u001b[0m",
      "\u001b[0;32m~/anaconda3/envs/py3.7/lib/python3.7/site-packages/numpy/__init__.py\u001b[0m in \u001b[0;36m__getattr__\u001b[0;34m(attr)\u001b[0m\n\u001b[1;32m    312\u001b[0m \u001b[0;34m\u001b[0m\u001b[0m\n\u001b[1;32m    313\u001b[0m             raise AttributeError(\"module {!r} has no attribute \"\n\u001b[0;32m--> 314\u001b[0;31m                                  \"{!r}\".format(__name__, attr))\n\u001b[0m\u001b[1;32m    315\u001b[0m \u001b[0;34m\u001b[0m\u001b[0m\n\u001b[1;32m    316\u001b[0m         \u001b[0;32mdef\u001b[0m \u001b[0m__dir__\u001b[0m\u001b[0;34m(\u001b[0m\u001b[0;34m)\u001b[0m\u001b[0;34m:\u001b[0m\u001b[0;34m\u001b[0m\u001b[0;34m\u001b[0m\u001b[0m\n",
      "\u001b[0;31mAttributeError\u001b[0m: module 'numpy' has no attribute 'numpy'"
     ]
    }
   ],
   "source": []
  },
  {
   "cell_type": "code",
   "execution_count": 114,
   "id": "e513488a",
   "metadata": {},
   "outputs": [
    {
     "data": {
      "text/plain": [
       "array([['1', '2']], dtype='<U1')"
      ]
     },
     "execution_count": 114,
     "metadata": {},
     "output_type": "execute_result"
    }
   ],
   "source": [
    "np.array([['1', '2']])"
   ]
  },
  {
   "cell_type": "code",
   "execution_count": 116,
   "id": "f6ef8433",
   "metadata": {},
   "outputs": [
    {
     "data": {
      "text/plain": [
       "numpy.int64"
      ]
     },
     "execution_count": 116,
     "metadata": {},
     "output_type": "execute_result"
    }
   ],
   "source": [
    "a = np.array([1, 0])\n",
    "type(a[0])"
   ]
  },
  {
   "cell_type": "code",
   "execution_count": 18,
   "id": "9f5e877b",
   "metadata": {},
   "outputs": [],
   "source": [
    "default_configuration = {\n",
    "    \"max_background_compactions\": 1,\n",
    "    \"max_background_flushes\": 1,\n",
    "    \"write_buffer_size\": 1048576,\n",
    "    \"max_write_buffer_number\": 2,\n",
    "    \"min_write_buffer_number_to_merge\": 1,\n",
    "    \"compaction_pri\": 0,\n",
    "    \"compaction_style\": 0,\n",
    "    \"level0_file_num_compaction_trigger\": 4,\n",
    "    \"level0_slowdown_writes_trigger\": 20,\n",
    "    \"level0_stop_writes_trigger\": 36,\n",
    "    \"compression_type\": \"snappy\",\n",
    "    \"bloom_locality\": 0,\n",
    "    \"open_files\": -1,\n",
    "    \"block_size\": 4096,\n",
    "    \"cache_index_and_filter_blocks\": 0,\n",
    "    \"max_bytes_for_level_base\": 4194304,\n",
    "    \"max_bytes_for_level_multiplier\": 10,\n",
    "    \"target_file_size_base\": 1048576,\n",
    "    \"target_file_size_multiplier\": 1,\n",
    "    \"num_levels\": 7,\n",
    "    \"memtable_bloom_size_ratio\": 0,\n",
    "    \"compression_ratio\": 0.5\n",
    "}\n"
   ]
  },
  {
   "cell_type": "code",
   "execution_count": 99,
   "id": "725fad5f",
   "metadata": {},
   "outputs": [
    {
     "data": {
      "text/plain": [
       "Index(['rocksdb.block.cache.miss COUNT', 'rocksdb.block.cache.hit COUNT',\n",
       "       'rocksdb.block.cache.add COUNT', 'rocksdb.block.cache.index.miss COUNT',\n",
       "       'rocksdb.block.cache.index.hit COUNT',\n",
       "       'rocksdb.block.cache.index.add COUNT',\n",
       "       'rocksdb.block.cache.index.bytes.insert COUNT',\n",
       "       'rocksdb.block.cache.data.miss COUNT',\n",
       "       'rocksdb.block.cache.data.hit COUNT',\n",
       "       'rocksdb.block.cache.data.add COUNT',\n",
       "       ...\n",
       "       'rocksdb.bytes.decompressed_P99', 'rocksdb.bytes.decompressed_P100',\n",
       "       'rocksdb.bytes.decompressed_COUNT', 'rocksdb.bytes.decompressed_SUM',\n",
       "       'rocksdb.db.flush.micros_P50', 'rocksdb.db.flush.micros_P95',\n",
       "       'rocksdb.db.flush.micros_P99', 'rocksdb.db.flush.micros_P100',\n",
       "       'rocksdb.db.flush.micros_COUNT', 'rocksdb.db.flush.micros_SUM'],\n",
       "      dtype='object', length=148)"
      ]
     },
     "execution_count": 99,
     "metadata": {},
     "output_type": "execute_result"
    }
   ],
   "source": [
    "pd.read_csv('/home/jieun/CDBTune/environment/internal_ensemble_pruned_tmp.csv', index_col=0).columns"
   ]
  },
  {
   "cell_type": "code",
   "execution_count": 68,
   "id": "6953f0c5",
   "metadata": {},
   "outputs": [
    {
     "data": {
      "text/plain": [
       "dict_values([1, 1, 1048576, 2, 1, 0, 0, 4, 20, 36, 'snappy', 0, -1, 4096, 0, 4194304, 10, 1048576, 1, 7, 0, 0.5])"
      ]
     },
     "execution_count": 68,
     "metadata": {},
     "output_type": "execute_result"
    }
   ],
   "source": [
    "default_configuration.values()"
   ]
  },
  {
   "cell_type": "code",
   "execution_count": 71,
   "id": "0f62333e",
   "metadata": {},
   "outputs": [
    {
     "data": {
      "text/plain": [
       "(dict_keys(['max_background_compactions', 'max_background_flushes', 'write_buffer_size', 'max_write_buffer_number', 'min_write_buffer_number_to_merge', 'compaction_pri', 'compaction_style', 'level0_file_num_compaction_trigger', 'level0_slowdown_writes_trigger', 'level0_stop_writes_trigger', 'compression_type', 'bloom_locality', 'open_files', 'block_size', 'cache_index_and_filter_blocks', 'max_bytes_for_level_base', 'max_bytes_for_level_multiplier', 'target_file_size_base', 'target_file_size_multiplier', 'num_levels', 'memtable_bloom_size_ratio', 'compression_ratio']),\n",
       " dict_values([1, 1, 1048576, 2, 1, 0, 0, 4, 20, 36, 'snappy', 0, -1, 4096, 0, 4194304, 10, 1048576, 1, 7, 0, 0.5]))"
      ]
     },
     "execution_count": 71,
     "metadata": {},
     "output_type": "execute_result"
    }
   ],
   "source": [
    "default_configuration.keys(), default_configuration.values()"
   ]
  },
  {
   "cell_type": "code",
   "execution_count": 76,
   "id": "9bdc245a",
   "metadata": {
    "scrolled": false
   },
   "outputs": [],
   "source": [
    "a = pd.DataFrame(data=[default_configuration.values()], columns=default_configuration.keys())"
   ]
  },
  {
   "cell_type": "code",
   "execution_count": 102,
   "id": "ddadbfae",
   "metadata": {},
   "outputs": [
    {
     "data": {
      "text/plain": [
       "array([1, 1, 1048576, 2, 1, 0, 0, 4, 20, 36, 'snappy', 0, -1, 4096, 0,\n",
       "       4194304, 10, 1048576, 1, 7, 0, 0.5], dtype=object)"
      ]
     },
     "execution_count": 102,
     "metadata": {},
     "output_type": "execute_result"
    }
   ],
   "source": [
    "a.values.squeeze()"
   ]
  },
  {
   "cell_type": "code",
   "execution_count": 96,
   "id": "974fdbc0",
   "metadata": {},
   "outputs": [
    {
     "data": {
      "text/plain": [
       "[1,\n",
       " 1,\n",
       " 1048576,\n",
       " 2,\n",
       " 1,\n",
       " 0,\n",
       " 0,\n",
       " 4,\n",
       " 20,\n",
       " 36,\n",
       " 'snappy',\n",
       " 0,\n",
       " -1,\n",
       " 4096,\n",
       " 0,\n",
       " 4194304,\n",
       " 10,\n",
       " 1048576,\n",
       " 1,\n",
       " 7,\n",
       " 0,\n",
       " 0.5]"
      ]
     },
     "execution_count": 96,
     "metadata": {},
     "output_type": "execute_result"
    }
   ],
   "source": [
    "a.values.squeeze().tolist()"
   ]
  },
  {
   "cell_type": "code",
   "execution_count": 124,
   "id": "d40ef19f",
   "metadata": {},
   "outputs": [
    {
     "data": {
      "text/plain": [
       "array([[1., 2.]])"
      ]
     },
     "execution_count": 124,
     "metadata": {},
     "output_type": "execute_result"
    }
   ],
   "source": [
    "pd.DataFrame(data=[[1, 2]]).values.astype(float)"
   ]
  },
  {
   "cell_type": "code",
   "execution_count": 51,
   "id": "2f4cbf37",
   "metadata": {},
   "outputs": [
    {
     "name": "stdout",
     "output_type": "stream",
     "text": [
      "0\n",
      "snappy\n"
     ]
    }
   ],
   "source": [
    "str_ct = {'snappy':0, 'zlib':1, 'lz4':2, 'none':3}\n",
    "int_ct = {0:'snappy', 1:'zlib', 2:'lz4', 3:'none'}\n",
    "str_val = default_configuration['compression_type']\n",
    "int_val = 0\n",
    "if isinstance(str_val, str):\n",
    "    print(str_ct[str_val])\n",
    "if isinstance(int_val, int):\n",
    "    print(int_ct[int_val])"
   ]
  },
  {
   "cell_type": "code",
   "execution_count": 139,
   "id": "b7de351a",
   "metadata": {},
   "outputs": [],
   "source": [
    "a = [0.49402642,0.49112648,0.5016475,0.51340836,0.42946073,0.5048201,0.49848875,0.46236205,0.51168096,0.514826,0.48477036,0.50550175,0.4783532,0.45416188,0.50334555,0.49596807,0.5404557,0.5123699,0.5135345,0.4910527,0.53205574,0.4445361]"
   ]
  },
  {
   "cell_type": "code",
   "execution_count": 141,
   "id": "4dc2b36a",
   "metadata": {},
   "outputs": [
    {
     "data": {
      "text/plain": [
       "22"
      ]
     },
     "execution_count": 141,
     "metadata": {},
     "output_type": "execute_result"
    }
   ],
   "source": [
    "len(a)"
   ]
  },
  {
   "cell_type": "code",
   "execution_count": 134,
   "id": "2cb3b6c4",
   "metadata": {},
   "outputs": [
    {
     "data": {
      "text/plain": [
       "'0.49402642,0.49112648,0.5016475,0.51340836,0.42946073,0.5048201,0.49848875,0.46236205,0.51168096,0.514826,0.48477036,0.50550175,0.4783532,0.45416188,0.50334555,0.49596807,0.5404557,0.5123699,0.5135345,0.4910527,0.53205574,0.4445361'"
      ]
     },
     "execution_count": 134,
     "metadata": {},
     "output_type": "execute_result"
    }
   ],
   "source": [
    "','.join(a.split(' '))"
   ]
  },
  {
   "cell_type": "code",
   "execution_count": null,
   "id": "f568c3ff",
   "metadata": {},
   "outputs": [],
   "source": []
  },
  {
   "cell_type": "code",
   "execution_count": 34,
   "id": "3bd9177c",
   "metadata": {
    "scrolled": false
   },
   "outputs": [
    {
     "data": {
      "text/plain": [
       "True"
      ]
     },
     "execution_count": 34,
     "metadata": {},
     "output_type": "execute_result"
    }
   ],
   "source": [
    "isinstance(default_configuration['compression_type'], str)"
   ]
  },
  {
   "cell_type": "code",
   "execution_count": 23,
   "id": "9b830145",
   "metadata": {},
   "outputs": [
    {
     "data": {
      "text/plain": [
       "'-max_background_compactions=1 -max_background_flushes=1 -write_buffer_size=1048576 -max_write_buffer_number=2 -min_write_buffer_number_to_merge=1 -compaction_pri=0 -compaction_style=0 -level0_file_num_compaction_trigger=4 -level0_slowdown_writes_trigger=20 -level0_stop_writes_trigger=36 -compression_type=snappy -bloom_locality=0 -open_files=-1 -block_size=4096 -cache_index_and_filter_blocks=0 -max_bytes_for_level_base=4194304 -max_bytes_for_level_multiplier=10 -target_file_size_base=1048576 -target_file_size_multiplier=1 -num_levels=7 -memtable_bloom_size_ratio=0 -compression_ratio=0.5 '"
      ]
     },
     "execution_count": 23,
     "metadata": {},
     "output_type": "execute_result"
    }
   ],
   "source": [
    "cmd = ''\n",
    "for key, value in default_configuration.items():\n",
    "    cmd += f'-{key}={value} '\n",
    "cmd"
   ]
  },
  {
   "cell_type": "code",
   "execution_count": 31,
   "id": "ae305b8d",
   "metadata": {},
   "outputs": [],
   "source": [
    "import os"
   ]
  },
  {
   "cell_type": "code",
   "execution_count": 32,
   "id": "7e4c1a8a",
   "metadata": {},
   "outputs": [
    {
     "data": {
      "text/plain": [
       "0"
      ]
     },
     "execution_count": 32,
     "metadata": {},
     "output_type": "execute_result"
    }
   ],
   "source": [
    "RESULT_PATH = 'result.txt'\n",
    "os.system(f'sshpass -p 1423 ssh jieun@165.132.172.71 cat /jieun/result.txt > {RESULT_PATH}')"
   ]
  },
  {
   "cell_type": "code",
   "execution_count": 30,
   "id": "1857f87e",
   "metadata": {},
   "outputs": [
    {
     "data": {
      "text/plain": [
       "[1,\n",
       " 1,\n",
       " 1048576,\n",
       " 2,\n",
       " 1,\n",
       " 0,\n",
       " 0,\n",
       " 4,\n",
       " 20,\n",
       " 36,\n",
       " 'snappy',\n",
       " 0,\n",
       " -1,\n",
       " 4096,\n",
       " 0,\n",
       " 4194304,\n",
       " 10,\n",
       " 1048576,\n",
       " 1,\n",
       " 7,\n",
       " 0,\n",
       " 0.5]"
      ]
     },
     "execution_count": 30,
     "metadata": {},
     "output_type": "execute_result"
    }
   ],
   "source": [
    "list(default_configuration.values())"
   ]
  },
  {
   "cell_type": "code",
   "execution_count": 17,
   "id": "03a66bc6",
   "metadata": {},
   "outputs": [
    {
     "name": "stdout",
     "output_type": "stream",
     "text": [
      "\"max_background_compactions\": 1,\n",
      "\"max_background_flushes\": 1,\n",
      "\"write_buffer_size\": 1048576,\n",
      "\"max_write_buffer_number\": 2,\n",
      "\"min_write_buffer_number_to_merge\": 1,\n",
      "\"compaction_pri\": 0,\n",
      "\"compaction_style\": 0,\n",
      "\"level0_file_num_compaction_trigger\": 4,\n",
      "\"level0_slowdown_writes_trigger\": 20,\n",
      "\"level0_stop_writes_trigger\": 36,\n",
      "\"compression_type\": snappy,\n",
      "\"bloom_locality\": 0,\n",
      "\"open_files\": -1,\n",
      "\"block_size\": 4096,\n",
      "\"cache_index_and_filter_blocks\": 0,\n",
      "\"max_bytes_for_level_base\": 4194304,\n",
      "\"max_bytes_for_level_multiplier\": 10,\n",
      "\"target_file_size_base\": 1048576,\n",
      "\"target_file_size_multiplier\": 1,\n",
      "\"num_levels\": 7,\n",
      "\"memtable_bloom_size_ratio\": 0,\n",
      "\"compression_ratio\": 0.5,\n"
     ]
    }
   ],
   "source": [
    "for k in def_knobs:\n",
    "    print(f'\"{k.split(\"=\")[0][1:]}\": {k.split(\"=\")[1]},')"
   ]
  }
 ],
 "metadata": {
  "kernelspec": {
   "display_name": "[py3.7]",
   "language": "python",
   "name": "py3.7"
  },
  "language_info": {
   "codemirror_mode": {
    "name": "ipython",
    "version": 3
   },
   "file_extension": ".py",
   "mimetype": "text/x-python",
   "name": "python",
   "nbconvert_exporter": "python",
   "pygments_lexer": "ipython3",
   "version": "3.7.11"
  }
 },
 "nbformat": 4,
 "nbformat_minor": 5
}
